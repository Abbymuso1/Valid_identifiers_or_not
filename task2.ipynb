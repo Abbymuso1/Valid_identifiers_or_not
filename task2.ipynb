{
  "nbformat": 4,
  "nbformat_minor": 0,
  "metadata": {
    "colab": {
      "provenance": [],
      "authorship_tag": "ABX9TyM1aoV4EoVToYKnvxTMtq+F",
      "include_colab_link": true
    },
    "kernelspec": {
      "name": "python3",
      "display_name": "Python 3"
    },
    "language_info": {
      "name": "python"
    }
  },
  "cells": [
    {
      "cell_type": "markdown",
      "metadata": {
        "id": "view-in-github",
        "colab_type": "text"
      },
      "source": [
        "<a href=\"https://colab.research.google.com/github/Abbymuso1/Valid_identifiers_or_not/blob/main/task2.ipynb\" target=\"_parent\"><img src=\"https://colab.research.google.com/assets/colab-badge.svg\" alt=\"Open In Colab\"/></a>"
      ]
    },
    {
      "cell_type": "markdown",
      "source": [
        "## Task 2\n",
        "\n",
        "#### **Libraries** used: **re** - Regex Library and **keyword** - Identifies keywords in Python"
      ],
      "metadata": {
        "id": "ZwvGNrPYUP_h"
      }
    },
    {
      "cell_type": "code",
      "execution_count": 5,
      "metadata": {
        "id": "SlWyqYAsI5or"
      },
      "outputs": [],
      "source": [
        "import re\n",
        "import keyword"
      ]
    },
    {
      "cell_type": "markdown",
      "source": [
        "### Function to check for the valid identifiers\n",
        "\n",
        "A **Valid identifier** : Should *start with either small or capital letters or an underscore*. It should also *not be a keyword* in python or start with numerical characters."
      ],
      "metadata": {
        "id": "7CV_PAT_Ui3D"
      }
    },
    {
      "cell_type": "code",
      "source": [
        "def check_valid_identifier(identifier):\n",
        "  identifier_pattern = '^[A-Za-z_][A-Za-z0-9_]*'\n",
        "\n",
        "  if(re.search(identifier_pattern,identifier) and not keyword.iskeyword(identifier)): #the identifier matches the pattern identified\n",
        "      return True\n",
        "  else:\n",
        "     return False"
      ],
      "metadata": {
        "id": "c__oI-Q8JDqF"
      },
      "execution_count": 21,
      "outputs": []
    },
    {
      "cell_type": "markdown",
      "source": [
        "A file is read and the valid identifiers from each line of code are checked."
      ],
      "metadata": {
        "id": "1OpDMv8hVSfP"
      }
    },
    {
      "cell_type": "code",
      "source": [
        "filepath = 'sample.txt'\n",
        "\n",
        "with open(filepath, 'r') as file:\n",
        "  print(\"Valid identifiers found in the lines of code: \")\n",
        "  for line in file:\n",
        "    #get the variable names before the assignment sign\n",
        "    pattern = r'([a-zA-Z0-9_][a-zA-Z0-9_]*|[!@#$%^&*()][a-zA-Z0-9_]+)\\s*='\n",
        "\n",
        "    variable_name = re.search(pattern,line)\n",
        "\n",
        "    if variable_name:\n",
        "       identifier = variable_name.group(1)\n",
        "       #print(identifier)\n",
        "\n",
        "       identifiers = check_valid_identifier(identifier)\n",
        "\n",
        "       if identifiers:\n",
        "        print(identifier)"
      ],
      "metadata": {
        "colab": {
          "base_uri": "https://localhost:8080/"
        },
        "id": "7CImfUGbO_PQ",
        "outputId": "80e419b2-2308-49ab-b9c0-2c40dd316400"
      },
      "execution_count": 51,
      "outputs": [
        {
          "output_type": "stream",
          "name": "stdout",
          "text": [
            "Valid identifiers found in the lines of code: \n",
            "abi\n",
            "_val\n"
          ]
        }
      ]
    },
    {
      "cell_type": "markdown",
      "source": [
        "Takes in a string and tests the validitity of the identifier"
      ],
      "metadata": {
        "id": "rKMOFV9IWU0f"
      }
    },
    {
      "cell_type": "code",
      "source": [
        "# Enter the string\n",
        "string1 = \"1234\"\n",
        "\n",
        "# calling run function\n",
        "if (check_valid_identifier(string1)):\n",
        "  print(string1 + \" is a valid is identifier\")\n",
        "else:\n",
        "  print(string1 + \" is not a valid is identifier\")\n",
        ""
      ],
      "metadata": {
        "colab": {
          "base_uri": "https://localhost:8080/"
        },
        "id": "UnR1hMk4JPky",
        "outputId": "fa7eca8c-d45e-49c0-a074-97ebfadd2349"
      },
      "execution_count": 29,
      "outputs": [
        {
          "output_type": "stream",
          "name": "stdout",
          "text": [
            "1234 is not a valid is identifier\n"
          ]
        }
      ]
    },
    {
      "cell_type": "code",
      "source": [],
      "metadata": {
        "id": "RvKugWsKWaCW"
      },
      "execution_count": null,
      "outputs": []
    }
  ]
}